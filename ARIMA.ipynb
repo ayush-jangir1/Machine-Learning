{
  "nbformat": 4,
  "nbformat_minor": 0,
  "metadata": {
    "colab": {
      "provenance": [],
      "authorship_tag": "ABX9TyMgazOenKcx+pG/5Im1IUlp",
      "include_colab_link": true
    },
    "kernelspec": {
      "name": "python3",
      "display_name": "Python 3"
    },
    "language_info": {
      "name": "python"
    }
  },
  "cells": [
    {
      "cell_type": "markdown",
      "metadata": {
        "id": "view-in-github",
        "colab_type": "text"
      },
      "source": [
        "<a href=\"https://colab.research.google.com/github/ayush-jangir1/Machine-Learning/blob/main/ARIMA.ipynb\" target=\"_parent\"><img src=\"https://colab.research.google.com/assets/colab-badge.svg\" alt=\"Open In Colab\"/></a>"
      ]
    },
    {
      "cell_type": "code",
      "source": [
        "import pandas as pd\n",
        "import numpy as np\n",
        "import matplotlib.pyplot as plt\n",
        "from statsmodels.tsa.seasonal import seasonal_decompose\n",
        "import seaborn as sns"
      ],
      "metadata": {
        "id": "ZgSpb2sVluv_"
      },
      "execution_count": null,
      "outputs": []
    },
    {
      "cell_type": "code",
      "execution_count": 3,
      "metadata": {
        "id": "AJ3ANFuzk5TS"
      },
      "outputs": [],
      "source": [
        "df = pd.read_csv('/content/Temp-Data.csv', index_col = 'DATE', parse_dates=True)\n",
        "df.index_freq = 'd'\n",
        "df.dropna(inplace=True)\n",
        "# df\n",
        "df = pd.DataFrame(df['Temp'])\n"
      ]
    },
    {
      "cell_type": "code",
      "source": [
        "from google.colab import drive\n",
        "drive.mount('/content/drive')"
      ],
      "metadata": {
        "id": "JKLOes6cfsu9",
        "colab": {
          "base_uri": "https://localhost:8080/"
        },
        "outputId": "45fa95ae-b117-4283-d70a-c82bd74ee131"
      },
      "execution_count": 4,
      "outputs": [
        {
          "output_type": "stream",
          "name": "stdout",
          "text": [
            "Mounted at /content/drive\n"
          ]
        }
      ]
    },
    {
      "cell_type": "markdown",
      "source": [
        "Training Splitting"
      ],
      "metadata": {
        "id": "1--iV55xZDgh"
      }
    },
    {
      "cell_type": "code",
      "source": [
        "# Dividing data into training and testing so we take last 14 days as test set\n",
        "train = df.iloc[:510,0]\n",
        "test = df.iloc[510:,0]\n"
      ],
      "metadata": {
        "id": "OvwSOyXKU1xe"
      },
      "execution_count": 5,
      "outputs": []
    },
    {
      "cell_type": "code",
      "source": [
        "Decomp_results = seasonal_decompose(df)\n",
        "# Decomp_results.plot()"
      ],
      "metadata": {
        "id": "maZzZzI9Zu4j"
      },
      "execution_count": 6,
      "outputs": []
    },
    {
      "cell_type": "markdown",
      "source": [
        "Now we will find p, d and q using ACF and PACF"
      ],
      "metadata": {
        "id": "MWT67168ctjM"
      }
    },
    {
      "cell_type": "code",
      "source": [
        "from statsmodels.graphics.tsaplots import plot_acf, plot_pacf\n",
        "\n",
        "# plot_acf(train, lags=50)\n",
        "# plot_pacf(train, lags=50)"
      ],
      "metadata": {
        "id": "iTX3tiAMc8Zg"
      },
      "execution_count": 7,
      "outputs": []
    },
    {
      "cell_type": "markdown",
      "source": [
        "Now we will find p, d and q using grid search"
      ],
      "metadata": {
        "id": "oMb2yTG0epLQ"
      }
    },
    {
      "cell_type": "code",
      "source": [
        "from pmdarima import auto_arima\n",
        "\n",
        "auto_arima(df, trace = True)\n",
        "\n",
        "# Developing ARIMA Model\n",
        "from statsmodels.tsa.arima.model import ARIMA\n",
        "A_model = ARIMA(train, order=(1,1,2))\n",
        "predictor = A_model.fit()\n",
        "predictor.summary()\n",
        "\n",
        "predicted_result = predictor.predict(start = len(train), end = len(train)+len(test)-1, type = 'levels')\n",
        "predicted_result"
      ],
      "metadata": {
        "colab": {
          "base_uri": "https://localhost:8080/",
          "height": 1000
        },
        "id": "0R5CEQXXetER",
        "outputId": "ac15e346-356e-479c-d0d0-df49af7d69e8"
      },
      "execution_count": 11,
      "outputs": [
        {
          "output_type": "stream",
          "name": "stdout",
          "text": [
            "Performing stepwise search to minimize aic\n",
            " ARIMA(2,1,2)(0,0,0)[0] intercept   : AIC=2846.718, Time=1.97 sec\n",
            " ARIMA(0,1,0)(0,0,0)[0] intercept   : AIC=2929.050, Time=0.08 sec\n",
            " ARIMA(1,1,0)(0,0,0)[0] intercept   : AIC=2931.026, Time=0.12 sec\n",
            " ARIMA(0,1,1)(0,0,0)[0] intercept   : AIC=2930.983, Time=0.26 sec\n",
            " ARIMA(0,1,0)(0,0,0)[0]             : AIC=2927.135, Time=0.06 sec\n",
            " ARIMA(1,1,2)(0,0,0)[0] intercept   : AIC=2845.685, Time=1.14 sec\n",
            " ARIMA(0,1,2)(0,0,0)[0] intercept   : AIC=2856.303, Time=0.51 sec\n",
            " ARIMA(1,1,1)(0,0,0)[0] intercept   : AIC=2882.045, Time=1.24 sec\n",
            " ARIMA(1,1,3)(0,0,0)[0] intercept   : AIC=2846.604, Time=2.76 sec\n",
            " ARIMA(0,1,3)(0,0,0)[0] intercept   : AIC=2848.805, Time=2.77 sec\n",
            " ARIMA(2,1,1)(0,0,0)[0] intercept   : AIC=2858.051, Time=2.08 sec\n",
            " ARIMA(2,1,3)(0,0,0)[0] intercept   : AIC=2848.587, Time=1.14 sec\n",
            " ARIMA(1,1,2)(0,0,0)[0]             : AIC=2844.520, Time=0.12 sec\n",
            " ARIMA(0,1,2)(0,0,0)[0]             : AIC=2854.723, Time=0.11 sec\n",
            " ARIMA(1,1,1)(0,0,0)[0]             : AIC=2880.931, Time=0.15 sec\n",
            " ARIMA(2,1,2)(0,0,0)[0]             : AIC=2845.584, Time=0.18 sec\n",
            " ARIMA(1,1,3)(0,0,0)[0]             : AIC=2845.470, Time=0.28 sec\n",
            " ARIMA(0,1,1)(0,0,0)[0]             : AIC=2929.065, Time=0.06 sec\n",
            " ARIMA(0,1,3)(0,0,0)[0]             : AIC=2847.507, Time=0.13 sec\n",
            " ARIMA(2,1,1)(0,0,0)[0]             : AIC=2856.871, Time=0.22 sec\n",
            " ARIMA(2,1,3)(0,0,0)[0]             : AIC=2847.455, Time=0.75 sec\n",
            "\n",
            "Best model:  ARIMA(1,1,2)(0,0,0)[0]          \n",
            "Total fit time: 16.207 seconds\n"
          ]
        },
        {
          "output_type": "stream",
          "name": "stderr",
          "text": [
            "/usr/local/lib/python3.10/dist-packages/statsmodels/tsa/base/tsa_model.py:473: ValueWarning: No frequency information was provided, so inferred frequency D will be used.\n",
            "  self._init_dates(dates, freq)\n",
            "/usr/local/lib/python3.10/dist-packages/statsmodels/tsa/base/tsa_model.py:473: ValueWarning: No frequency information was provided, so inferred frequency D will be used.\n",
            "  self._init_dates(dates, freq)\n",
            "/usr/local/lib/python3.10/dist-packages/statsmodels/tsa/base/tsa_model.py:473: ValueWarning: No frequency information was provided, so inferred frequency D will be used.\n",
            "  self._init_dates(dates, freq)\n",
            "/usr/local/lib/python3.10/dist-packages/statsmodels/tsa/statespace/representation.py:374: FutureWarning: Unknown keyword arguments: dict_keys(['type']).Passing unknown keyword arguments will raise a TypeError beginning in version 0.15.\n",
            "  warnings.warn(msg, FutureWarning)\n"
          ]
        },
        {
          "output_type": "execute_result",
          "data": {
            "text/plain": [
              "2021-05-25    15.552138\n",
              "2021-05-26    16.149253\n",
              "2021-05-27    16.342371\n",
              "2021-05-28    16.404829\n",
              "2021-05-29    16.425028\n",
              "2021-05-30    16.431561\n",
              "2021-05-31    16.433674\n",
              "2021-06-01    16.434358\n",
              "2021-06-02    16.434579\n",
              "2021-06-03    16.434650\n",
              "2021-06-04    16.434673\n",
              "2021-06-05    16.434681\n",
              "2021-06-06    16.434683\n",
              "2021-06-07    16.434684\n",
              "Freq: D, Name: predicted_mean, dtype: float64"
            ],
            "text/html": [
              "<div>\n",
              "<style scoped>\n",
              "    .dataframe tbody tr th:only-of-type {\n",
              "        vertical-align: middle;\n",
              "    }\n",
              "\n",
              "    .dataframe tbody tr th {\n",
              "        vertical-align: top;\n",
              "    }\n",
              "\n",
              "    .dataframe thead th {\n",
              "        text-align: right;\n",
              "    }\n",
              "</style>\n",
              "<table border=\"1\" class=\"dataframe\">\n",
              "  <thead>\n",
              "    <tr style=\"text-align: right;\">\n",
              "      <th></th>\n",
              "      <th>predicted_mean</th>\n",
              "    </tr>\n",
              "  </thead>\n",
              "  <tbody>\n",
              "    <tr>\n",
              "      <th>2021-05-25</th>\n",
              "      <td>15.552138</td>\n",
              "    </tr>\n",
              "    <tr>\n",
              "      <th>2021-05-26</th>\n",
              "      <td>16.149253</td>\n",
              "    </tr>\n",
              "    <tr>\n",
              "      <th>2021-05-27</th>\n",
              "      <td>16.342371</td>\n",
              "    </tr>\n",
              "    <tr>\n",
              "      <th>2021-05-28</th>\n",
              "      <td>16.404829</td>\n",
              "    </tr>\n",
              "    <tr>\n",
              "      <th>2021-05-29</th>\n",
              "      <td>16.425028</td>\n",
              "    </tr>\n",
              "    <tr>\n",
              "      <th>2021-05-30</th>\n",
              "      <td>16.431561</td>\n",
              "    </tr>\n",
              "    <tr>\n",
              "      <th>2021-05-31</th>\n",
              "      <td>16.433674</td>\n",
              "    </tr>\n",
              "    <tr>\n",
              "      <th>2021-06-01</th>\n",
              "      <td>16.434358</td>\n",
              "    </tr>\n",
              "    <tr>\n",
              "      <th>2021-06-02</th>\n",
              "      <td>16.434579</td>\n",
              "    </tr>\n",
              "    <tr>\n",
              "      <th>2021-06-03</th>\n",
              "      <td>16.434650</td>\n",
              "    </tr>\n",
              "    <tr>\n",
              "      <th>2021-06-04</th>\n",
              "      <td>16.434673</td>\n",
              "    </tr>\n",
              "    <tr>\n",
              "      <th>2021-06-05</th>\n",
              "      <td>16.434681</td>\n",
              "    </tr>\n",
              "    <tr>\n",
              "      <th>2021-06-06</th>\n",
              "      <td>16.434683</td>\n",
              "    </tr>\n",
              "    <tr>\n",
              "      <th>2021-06-07</th>\n",
              "      <td>16.434684</td>\n",
              "    </tr>\n",
              "  </tbody>\n",
              "</table>\n",
              "</div><br><label><b>dtype:</b> float64</label>"
            ]
          },
          "metadata": {},
          "execution_count": 11
        }
      ]
    },
    {
      "cell_type": "markdown",
      "source": [
        "This is to install the pmdarima package in this instance else this will show a error"
      ],
      "metadata": {
        "id": "FpT76ZRagzDA"
      }
    },
    {
      "cell_type": "code",
      "source": [
        "!pip install pmdarima\n"
      ],
      "metadata": {
        "colab": {
          "base_uri": "https://localhost:8080/"
        },
        "id": "Dd5R_kX5gsCb",
        "outputId": "d65b6e15-5664-46e0-a05e-3ab799c323a5"
      },
      "execution_count": 10,
      "outputs": [
        {
          "output_type": "stream",
          "name": "stdout",
          "text": [
            "Collecting pmdarima\n",
            "  Downloading pmdarima-2.0.4-cp310-cp310-manylinux_2_17_x86_64.manylinux2014_x86_64.manylinux_2_28_x86_64.whl.metadata (7.8 kB)\n",
            "Requirement already satisfied: joblib>=0.11 in /usr/local/lib/python3.10/dist-packages (from pmdarima) (1.4.2)\n",
            "Requirement already satisfied: Cython!=0.29.18,!=0.29.31,>=0.29 in /usr/local/lib/python3.10/dist-packages (from pmdarima) (3.0.11)\n",
            "Requirement already satisfied: numpy>=1.21.2 in /usr/local/lib/python3.10/dist-packages (from pmdarima) (1.26.4)\n",
            "Requirement already satisfied: pandas>=0.19 in /usr/local/lib/python3.10/dist-packages (from pmdarima) (2.2.2)\n",
            "Requirement already satisfied: scikit-learn>=0.22 in /usr/local/lib/python3.10/dist-packages (from pmdarima) (1.5.2)\n",
            "Requirement already satisfied: scipy>=1.3.2 in /usr/local/lib/python3.10/dist-packages (from pmdarima) (1.13.1)\n",
            "Requirement already satisfied: statsmodels>=0.13.2 in /usr/local/lib/python3.10/dist-packages (from pmdarima) (0.14.4)\n",
            "Requirement already satisfied: urllib3 in /usr/local/lib/python3.10/dist-packages (from pmdarima) (2.2.3)\n",
            "Requirement already satisfied: setuptools!=50.0.0,>=38.6.0 in /usr/local/lib/python3.10/dist-packages (from pmdarima) (75.1.0)\n",
            "Requirement already satisfied: packaging>=17.1 in /usr/local/lib/python3.10/dist-packages (from pmdarima) (24.2)\n",
            "Requirement already satisfied: python-dateutil>=2.8.2 in /usr/local/lib/python3.10/dist-packages (from pandas>=0.19->pmdarima) (2.8.2)\n",
            "Requirement already satisfied: pytz>=2020.1 in /usr/local/lib/python3.10/dist-packages (from pandas>=0.19->pmdarima) (2024.2)\n",
            "Requirement already satisfied: tzdata>=2022.7 in /usr/local/lib/python3.10/dist-packages (from pandas>=0.19->pmdarima) (2024.2)\n",
            "Requirement already satisfied: threadpoolctl>=3.1.0 in /usr/local/lib/python3.10/dist-packages (from scikit-learn>=0.22->pmdarima) (3.5.0)\n",
            "Requirement already satisfied: patsy>=0.5.6 in /usr/local/lib/python3.10/dist-packages (from statsmodels>=0.13.2->pmdarima) (1.0.1)\n",
            "Requirement already satisfied: six>=1.5 in /usr/local/lib/python3.10/dist-packages (from python-dateutil>=2.8.2->pandas>=0.19->pmdarima) (1.16.0)\n",
            "Downloading pmdarima-2.0.4-cp310-cp310-manylinux_2_17_x86_64.manylinux2014_x86_64.manylinux_2_28_x86_64.whl (2.1 MB)\n",
            "\u001b[2K   \u001b[90m━━━━━━━━━━━━━━━━━━━━━━━━━━━━━━━━━━━━━━━━\u001b[0m \u001b[32m2.1/2.1 MB\u001b[0m \u001b[31m19.7 MB/s\u001b[0m eta \u001b[36m0:00:00\u001b[0m\n",
            "\u001b[?25hInstalling collected packages: pmdarima\n",
            "Successfully installed pmdarima-2.0.4\n"
          ]
        }
      ]
    },
    {
      "cell_type": "code",
      "source": [
        "plt.plot(test, label = 'Actual', color = 'Red')\n",
        "plt.plot(predicted_result, label = 'Predicted', color = 'Green')\n",
        "plt.xlabel('Day')\n",
        "plt.ylabel('Temperature')\n",
        "plt.legend()\n",
        "plt.show()"
      ],
      "metadata": {
        "colab": {
          "base_uri": "https://localhost:8080/",
          "height": 449
        },
        "id": "q6tYnvQuqiqW",
        "outputId": "ccd06d01-5ded-4800-ba2a-2d6525fe52e1"
      },
      "execution_count": 12,
      "outputs": [
        {
          "output_type": "display_data",
          "data": {
            "text/plain": [
              "<Figure size 640x480 with 1 Axes>"
            ],
            "image/png": "[encoded data removed]"
          },
          "metadata": {}
        }
      ]
    },
    {
      "cell_type": "code",
      "source": [
        "import math\n",
        "from sklearn.metrics import mean_squared_error\n",
        "\n",
        "rmse = math.sqrt(mean_squared_error(test, predicted_result))\n",
        "rmse"
      ],
      "metadata": {
        "colab": {
          "base_uri": "https://localhost:8080/"
        },
        "id": "lDpHQ8IQryzl",
        "outputId": "b340b709-c33a-4098-dc30-21951c197e90"
      },
      "execution_count": 13,
      "outputs": [
        {
          "output_type": "execute_result",
          "data": {
            "text/plain": [
              "5.801290354498276"
            ]
          },
          "metadata": {},
          "execution_count": 13
        }
      ]
    }
  ]
}